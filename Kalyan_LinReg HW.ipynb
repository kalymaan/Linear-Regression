{
 "cells": [
  {
   "cell_type": "code",
   "execution_count": 1,
   "metadata": {
    "collapsed": true
   },
   "outputs": [],
   "source": [
    "import numpy as np\n",
    "import pandas as pd\n",
    "import matplotlib as mpl\n",
    "import matplotlib.pyplot as plt\n",
    "from sklearn import linear_model as lm"
   ]
  },
  {
   "cell_type": "markdown",
   "metadata": {},
   "source": [
    "# Ground Cricket Chirps : "
   ]
  },
  {
   "cell_type": "code",
   "execution_count": 2,
   "metadata": {
    "collapsed": true
   },
   "outputs": [],
   "source": [
    "ground_cricket_data = {\"Chirps/Second\": [20.0, 16.0, 19.8, 18.4, 17.1, 15.5, 14.7,\n",
    "                                         15.7, 15.4, 16.3, 15.0, 17.2, 16.0, 17.0,\n",
    "                                         14.4],\n",
    "                       \"Ground Temperature\": [88.6, 71.6, 93.3, 84.3, 80.6, 75.2, 69.7,\n",
    "                                              71.6, 69.4, 83.3, 79.6, 82.6, 80.6, 83.5,\n",
    "                                              76.3]}\n",
    "df = pd.DataFrame(ground_cricket_data)\n",
    "x = df['Ground Temperature'].values.reshape(-1,1)\n",
    "y = df['Chirps/Second'].values.reshape(-1,1)"
   ]
  },
  {
   "cell_type": "markdown",
   "metadata": {},
   "source": [
    "### Find the linear regression equation for this data."
   ]
  },
  {
   "cell_type": "code",
   "execution_count": 3,
   "metadata": {},
   "outputs": [
    {
     "name": "stdout",
     "output_type": "stream",
     "text": [
      "y= [[ 0.20299973]]x + [ 0.45931465]\n"
     ]
    }
   ],
   "source": [
    "linreg = lm.LinearRegression() # creates linear regression object\n",
    "linreg.fit(x,y)\n",
    "\n",
    "print 'y= {}x + {}'.format(linreg.coef_,linreg.intercept_)"
   ]
  },
  {
   "cell_type": "markdown",
   "metadata": {},
   "source": [
    "### Chart  the original data and the equation on the chart."
   ]
  },
  {
   "cell_type": "code",
   "execution_count": 4,
   "metadata": {
    "scrolled": true
   },
   "outputs": [
    {
     "data": {
      "image/png": "[encoded data removed]",
      "text/plain": [
       "<matplotlib.figure.Figure at 0xf25ce80>"
      ]
     },
     "metadata": {},
     "output_type": "display_data"
    }
   ],
   "source": [
    "#xline = x\n",
    "#yline = (linreg.coef_)*x + linreg.intercept_\n",
    "y_predict = linreg.predict(x)\n",
    "plt.scatter(x, y)\n",
    "plt.plot(x, y_predict)\n",
    "plt.show()"
   ]
  },
  {
   "cell_type": "markdown",
   "metadata": {},
   "source": [
    "### Find the equation's  R^2  score (use the .score method) to determine whether the equation is a good fit for this data. (0.8 and greater is considered a strong correlation.)"
   ]
  },
  {
   "cell_type": "code",
   "execution_count": 5,
   "metadata": {
    "scrolled": true
   },
   "outputs": [
    {
     "name": "stdout",
     "output_type": "stream",
     "text": [
      "R^2 value: 0.692294652915\n"
     ]
    }
   ],
   "source": [
    "print('R^2 value: {}'.format(linreg.score(x,y)))"
   ]
  },
  {
   "cell_type": "markdown",
   "metadata": {},
   "source": [
    "### Extrapolate data: If the ground temperature reached 95, then at what approximate rate would you expect the crickets to be chirping?"
   ]
  },
  {
   "cell_type": "code",
   "execution_count": 6,
   "metadata": {},
   "outputs": [
    {
     "name": "stdout",
     "output_type": "stream",
     "text": [
      "Estimated Chirps/Second for 95 degrees: [[ 19.74428913]]\n"
     ]
    }
   ],
   "source": [
    "# plug t=95 into lin reg equation: y = (linreg.coef_)*x + linreg.intercept_\n",
    "x = 95\n",
    "estimated_rate = (linreg.coef_)*x + linreg.intercept_\n",
    "\n",
    "print 'Estimated Chirps/Second for 95 degrees: {}'.format(estimated_rate)"
   ]
  },
  {
   "cell_type": "markdown",
   "metadata": {},
   "source": [
    "### Interpolate data: With a listening device, you discovered that on a particular morning the crickets were chirping at a rate of 18 chirps per second. What was the approximate ground temperature that morning?"
   ]
  },
  {
   "cell_type": "code",
   "execution_count": 7,
   "metadata": {},
   "outputs": [
    {
     "name": "stdout",
     "output_type": "stream",
     "text": [
      "Estimated Temperature for 18 Chirps/Second: [[ 86.40743135]]\n"
     ]
    }
   ],
   "source": [
    "# plug c/s=18 into inverse of lin reg equation\n",
    "\n",
    "x = 18\n",
    "estimated_temp= (x - linreg.intercept_)/(linreg.coef_)\n",
    "print 'Estimated Temperature for 18 Chirps/Second: {}'.format(estimated_temp)"
   ]
  },
  {
   "cell_type": "markdown",
   "metadata": {},
   "source": [
    "# Brain vs. Body Weight"
   ]
  },
  {
   "cell_type": "code",
   "execution_count": 21,
   "metadata": {},
   "outputs": [
    {
     "data": {
      "text/html": [
       "<div>\n",
       "<style>\n",
       "    .dataframe thead tr:only-child th {\n",
       "        text-align: right;\n",
       "    }\n",
       "\n",
       "    .dataframe thead th {\n",
       "        text-align: left;\n",
       "    }\n",
       "\n",
       "    .dataframe tbody tr th {\n",
       "        vertical-align: top;\n",
       "    }\n",
       "</style>\n",
       "<table border=\"1\" class=\"dataframe\">\n",
       "  <thead>\n",
       "    <tr style=\"text-align: right;\">\n",
       "      <th></th>\n",
       "      <th>Brain</th>\n",
       "      <th>Body</th>\n",
       "    </tr>\n",
       "  </thead>\n",
       "  <tbody>\n",
       "    <tr>\n",
       "      <th>0</th>\n",
       "      <td>3.385</td>\n",
       "      <td>44.5</td>\n",
       "    </tr>\n",
       "    <tr>\n",
       "      <th>1</th>\n",
       "      <td>0.480</td>\n",
       "      <td>15.5</td>\n",
       "    </tr>\n",
       "    <tr>\n",
       "      <th>2</th>\n",
       "      <td>1.350</td>\n",
       "      <td>8.1</td>\n",
       "    </tr>\n",
       "    <tr>\n",
       "      <th>3</th>\n",
       "      <td>465.000</td>\n",
       "      <td>423.0</td>\n",
       "    </tr>\n",
       "    <tr>\n",
       "      <th>4</th>\n",
       "      <td>36.330</td>\n",
       "      <td>119.5</td>\n",
       "    </tr>\n",
       "  </tbody>\n",
       "</table>\n",
       "</div>"
      ],
      "text/plain": [
       "     Brain   Body\n",
       "0    3.385   44.5\n",
       "1    0.480   15.5\n",
       "2    1.350    8.1\n",
       "3  465.000  423.0\n",
       "4   36.330  119.5"
      ]
     },
     "execution_count": 21,
     "metadata": {},
     "output_type": "execute_result"
    }
   ],
   "source": [
    "df = pd.read_fwf(\"brain_body.txt\")\n",
    "df.head()"
   ]
  },
  {
   "cell_type": "markdown",
   "metadata": {},
   "source": [
    "### Find the linear regression equation for this data for brain weight to body weight."
   ]
  },
  {
   "cell_type": "code",
   "execution_count": 22,
   "metadata": {},
   "outputs": [
    {
     "name": "stdout",
     "output_type": "stream",
     "text": [
      "y= [[ 0.96649637]]x + [ 91.00439621]\n"
     ]
    }
   ],
   "source": [
    "x = df['Brain'].values.reshape(-1,1)\n",
    "y = df['Body'].values.reshape(-1,1)\n",
    "\n",
    "lr = lm.LinearRegression()\n",
    "lr.fit(x,y)\n",
    "\n",
    "print 'y= {}x + {}'.format(lr.coef_,lr.intercept_)"
   ]
  },
  {
   "cell_type": "markdown",
   "metadata": {},
   "source": [
    "### Chart the original data and the equation on the chart."
   ]
  },
  {
   "cell_type": "code",
   "execution_count": 23,
   "metadata": {},
   "outputs": [
    {
     "data": {
      "image/png": "[encoded data removed]",
      "text/plain": [
       "<matplotlib.figure.Figure at 0xf6cf6d8>"
      ]
     },
     "metadata": {},
     "output_type": "display_data"
    }
   ],
   "source": [
    "y_predict = lr.predict(x)\n",
    "plt.scatter(x, y)\n",
    "plt.plot(x, y_predict)\n",
    "plt.show()"
   ]
  },
  {
   "cell_type": "markdown",
   "metadata": {},
   "source": [
    "### Find the equation's $R^2$ score (use the `.score` method) to determine whether the equation is a good fit for this data. (0.8 and greater is considered a strong correlation.)"
   ]
  },
  {
   "cell_type": "code",
   "execution_count": 24,
   "metadata": {},
   "outputs": [
    {
     "name": "stdout",
     "output_type": "stream",
     "text": [
      "R^2 value: 0.872662084304\n"
     ]
    }
   ],
   "source": [
    "print('R^2 value: {}'.format(lr.score(x,y)))"
   ]
  },
  {
   "cell_type": "markdown",
   "metadata": {},
   "source": [
    "# Salary Discrimination"
   ]
  },
  {
   "cell_type": "code",
   "execution_count": 25,
   "metadata": {
    "collapsed": true
   },
   "outputs": [],
   "source": [
    "df = pd.read_fwf(\"salary.txt\", header=None, \n",
    "                 names=[\"Sex\", \"Rank\", \"Year\", \"Degree\", \"YSdeg\", \"Salary\"])"
   ]
  },
  {
   "cell_type": "markdown",
   "metadata": {},
   "source": [
    "1. Sex. 1 for female, 0 for male.\n",
    "2. Rank. 1 for assistant professor, 2 for associate professor, 3 for full professor.\n",
    "3. Year. Number of years in current rank.\n",
    "4. Degree. Highest degree. 1 for doctorate, 0 for master's.\n",
    "5. YSdeg. Years since highest degree was earned.\n",
    "6. Salary. Salary/year in dollars."
   ]
  },
  {
   "cell_type": "markdown",
   "metadata": {},
   "source": [
    "### Find the linear regression equation for this data using columns 1-5 to column 6."
   ]
  },
  {
   "cell_type": "code",
   "execution_count": 33,
   "metadata": {},
   "outputs": [
    {
     "name": "stdout",
     "output_type": "stream",
     "text": [
      "YSdeg:  y= [[ 390.64512637]]x + [ 17502.25738659]\n",
      "Year:  y= [[ 752.79775742]]x + [ 18166.14754547]\n",
      "Degree:  y= [[-858.86928105]]x + [ 24359.22222222]\n",
      "Rank:  y= [[ 5952.77890467]]x + [ 11663.14300203]\n",
      "Sex:  y= [[-3339.64661654]]x + [ 24696.78947368]\n"
     ]
    }
   ],
   "source": [
    "xdict = {}\n",
    "for column in df:\n",
    "    if column == 'Salary':\n",
    "        y = df['Salary'].values.reshape(-1,1)\n",
    "    else:\n",
    "        xdict[column] = df[column].values.reshape(-1,1)\n",
    "\n",
    "        \n",
    "for k, v in xdict.items():\n",
    "    lr = lm.LinearRegression()\n",
    "    lr.fit(v,y)\n",
    "    print '{}:  y= {}x + {}'.format(k,lr.coef_,lr.intercept_)\n",
    "    "
   ]
  },
  {
   "cell_type": "markdown",
   "metadata": {},
   "source": [
    "### Find the selection of columns with the best $R^2$ score."
   ]
  },
  {
   "cell_type": "code",
   "execution_count": 35,
   "metadata": {},
   "outputs": [
    {
     "name": "stdout",
     "output_type": "stream",
     "text": [
      "YSdeg : R^2 value: 0.455428134584\n",
      "Year : R^2 value: 0.490937026769\n",
      "Degree : R^2 value: 0.00486168098475\n",
      "Rank : R^2 value: 0.752536053927\n",
      "Sex : R^2 value: 0.0638989258329\n"
     ]
    }
   ],
   "source": [
    "for k, v in xdict.items():\n",
    "    lr = lm.LinearRegression()\n",
    "    lr.fit(v,y)\n",
    "    print('{} : R^2 value: {}'.format(k,lr.score(v,y)))"
   ]
  },
  {
   "cell_type": "markdown",
   "metadata": {},
   "source": [
    "### Report whether sex is a factor in salary."
   ]
  },
  {
   "cell_type": "markdown",
   "metadata": {},
   "source": [
    "With a $R^2$ score of only 0.06, sex does not seem to hold a strong correlation in this data set"
   ]
  },
  {
   "cell_type": "markdown",
   "metadata": {},
   "source": [
    "# ADDITIONAL QUESTIONS"
   ]
  },
  {
   "cell_type": "markdown",
   "metadata": {},
   "source": [
    "### What is the geometric interpretation of why ridge and lasso are different? Why does this matter? What happens to the parameters in each case.\n"
   ]
  },
  {
   "cell_type": "markdown",
   "metadata": {},
   "source": [
    "Regularization is all about correcting overfitted models. Over fitted models may provide a high degree of accuracy for the sample/training set, however, they produce overly complicated functions and frequently fail to predict future behavior in a realistic fasion.\n",
    "\n",
    "Both RIdge and Lasso regularization add a 'penalty term' to the fitted function in order to minimize the contribution of higher order terms. Kasso  uses an absolut value of the error whereas ridge uses the square of the error. Thus, Ridge tends to negate the more extreme coefficients than lasso. "
   ]
  },
  {
   "cell_type": "markdown",
   "metadata": {},
   "source": [
    "### Implement Linear Regression (ols; any way you like). Fit random data, and plot your model’s best fit line and dataset.\n"
   ]
  },
  {
   "cell_type": "code",
   "execution_count": 40,
   "metadata": {},
   "outputs": [
    {
     "data": {
      "image/png": "[encoded data removed]",
      "text/plain": [
       "<matplotlib.figure.Figure at 0xf33f4a8>"
      ]
     },
     "metadata": {},
     "output_type": "display_data"
    }
   ],
   "source": [
    "x = np.arange(0,100).reshape(-1,1)\n",
    "y = np.random.rand(100,1).reshape(-1,1)\n",
    "\n",
    "linreg = lm.LinearRegression() # creates linear regression object\n",
    "linreg.fit(x,y)\n",
    "\n",
    "y_predict = linreg.predict(x)\n",
    "plt.scatter(x, y)\n",
    "plt.plot(x, y_predict)\n",
    "plt.show()"
   ]
  },
  {
   "cell_type": "markdown",
   "metadata": {},
   "source": [
    "### Would you ever use gradient descent to solve this problem?"
   ]
  },
  {
   "cell_type": "raw",
   "metadata": {},
   "source": [
    "Yes, I would.\n",
    "\n",
    "Gradient Descent is a method to (attempt to) determine the global minimum of a cost function. The cost finction is a function that plots error values over possible 'best fits'. So, for example, in this problem, we could say that the 'x axis' for the cost function is a series of potential linear regression equation coefficients -- and the 'y axis' would be the average(for ) sum of squares(error measure) for each data point.\n",
    "\n",
    "The basic method that gradient descent uses is to pick a random point on the cost function, determine the derivative of the function at that point, and determine which direction to pick the next point based on the derivative. This process happens untill the derivative reaches ~ 0 coming from a positive direction.\n",
    "\n",
    "Since our data is random in nature, there is no analytical way( that I see) in which to correctly determine around where the minimum of the cost fnction would be located. Hence, Gradient descent is a good option for this problem."
   ]
  }
 ],
 "metadata": {
  "kernelspec": {
   "display_name": "Python 2",
   "language": "python",
   "name": "python2"
  },
  "language_info": {
   "codemirror_mode": {
    "name": "ipython",
    "version": 2
   },
   "file_extension": ".py",
   "mimetype": "text/x-python",
   "name": "python",
   "nbconvert_exporter": "python",
   "pygments_lexer": "ipython2",
   "version": "2.7.14"
  }
 },
 "nbformat": 4,
 "nbformat_minor": 2
}
